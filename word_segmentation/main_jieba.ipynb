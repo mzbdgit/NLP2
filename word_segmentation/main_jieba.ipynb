{
 "cells": [
  {
   "cell_type": "code",
   "execution_count": 1,
   "id": "17d193cd-189f-436d-a8fb-f721c6229644",
   "metadata": {},
   "outputs": [],
   "source": [
    "# 结巴分词实践"
   ]
  },
  {
   "cell_type": "code",
   "execution_count": 2,
   "id": "bb9d3b13-0636-42f1-94fa-3077cf74413a",
   "metadata": {},
   "outputs": [],
   "source": [
    "## 结巴分词的三种模式"
   ]
  },
  {
   "cell_type": "code",
   "execution_count": 5,
   "id": "858fc079-7d5f-4b7c-81b9-72a9576f1254",
   "metadata": {},
   "outputs": [],
   "source": [
    "### 全模式"
   ]
  },
  {
   "cell_type": "code",
   "execution_count": 4,
   "id": "1fd85a73-353f-4c5c-8bd2-6e815937bd9d",
   "metadata": {},
   "outputs": [
    {
     "name": "stderr",
     "output_type": "stream",
     "text": [
      "Building prefix dict from the default dictionary ...\n",
      "Loading model from cache C:\\Users\\38736\\AppData\\Local\\Temp\\jieba.cache\n",
      "Loading model cost 1.266 seconds.\n",
      "Prefix dict has been built successfully.\n"
     ]
    },
    {
     "name": "stdout",
     "output_type": "stream",
     "text": [
      "Full Mode: 我/ 来到/ 北京/ 清华/ 清华大学/ 华大/ 大学\n"
     ]
    }
   ],
   "source": [
    "import jieba\n",
    "seg_list = jieba.cut(\"我来到北京清华大学\", cut_all=True)\n",
    "print(\"Full Mode: \" + \"/ \".join(seg_list))  # 全模式"
   ]
  },
  {
   "cell_type": "code",
   "execution_count": 3,
   "id": "4429dc9d-53e3-40a3-adb7-ff0b398b297c",
   "metadata": {},
   "outputs": [],
   "source": [
    "### 精确模式"
   ]
  },
  {
   "cell_type": "code",
   "execution_count": 6,
   "id": "1644aa1f-160b-465e-86a9-a15d72254644",
   "metadata": {},
   "outputs": [
    {
     "name": "stdout",
     "output_type": "stream",
     "text": [
      "Default Mode: 我/ 来到/ 北京/ 清华大学\n"
     ]
    }
   ],
   "source": [
    "seg_list = jieba.cut(\"我来到北京清华大学\", cut_all=False)\n",
    "print(\"Default Mode: \" + \"/ \".join(seg_list))  # 精确模式"
   ]
  },
  {
   "cell_type": "code",
   "execution_count": 7,
   "id": "20ddfa46-a299-4f66-97b6-8d937137df9e",
   "metadata": {},
   "outputs": [],
   "source": [
    "### 搜索引擎模式"
   ]
  },
  {
   "cell_type": "code",
   "execution_count": 6,
   "id": "6d02a9dd-fe67-47f0-b240-d793b6758688",
   "metadata": {},
   "outputs": [
    {
     "name": "stdout",
     "output_type": "stream",
     "text": [
      "小明, 硕士, 毕业, 于, 中国, 科学, 学院, 科学院, 中国科学院, 计算, 计算所, ，, 后, 在, 日本, 京都, 大学, 日本京都大学, 深造\n"
     ]
    }
   ],
   "source": [
    "seg_list = jieba.cut_for_search(\"小明硕士毕业于中国科学院计算所，后在日本京都大学深造\")  # 搜索引擎模式\n",
    "print(\", \".join(seg_list))"
   ]
  },
  {
   "cell_type": "code",
   "execution_count": 7,
   "id": "3e429e5f-5613-4b51-abf6-d33c50051ffc",
   "metadata": {},
   "outputs": [],
   "source": [
    "## 载入词典"
   ]
  },
  {
   "cell_type": "code",
   "execution_count": 8,
   "id": "9c69a12e-6fca-42fa-a20f-3e8aed652557",
   "metadata": {},
   "outputs": [
    {
     "name": "stdout",
     "output_type": "stream",
     "text": [
      "Default Mode: 缪宗斌/ 即将/ 是/ 自然语言/ 处理/ 方面/ 的/ 高手\n"
     ]
    }
   ],
   "source": [
    "jieba.load_userdict(\"userdict.txt\")\n",
    "seg_list = jieba.cut(\"缪宗斌即将是自然语言处理方面的高手\", cut_all=False, HMM=False)\n",
    "print(\"Default Mode: \" + \"/ \".join(seg_list))"
   ]
  },
  {
   "cell_type": "code",
   "execution_count": 1,
   "id": "2f75f212-685b-46c3-9945-d039e9032c78",
   "metadata": {},
   "outputs": [
    {
     "name": "stderr",
     "output_type": "stream",
     "text": [
      "Building prefix dict from the default dictionary ...\n",
      "Loading model from cache C:\\Users\\38736\\AppData\\Local\\Temp\\jieba.cache\n",
      "Loading model cost 1.194 seconds.\n",
      "Prefix dict has been built successfully.\n"
     ]
    },
    {
     "name": "stdout",
     "output_type": "stream",
     "text": [
      "Top-5 关键词：\n",
      "重点\n",
      "大学\n",
      "国家\n",
      "河北省\n",
      "共建\n"
     ]
    }
   ],
   "source": [
    "import jieba.analyse  \n",
    "sentence = \"燕山大学是河北省人民政府、教育部、工业和信息化部、国家国防科技工业局四方共建的全国重点大学，河北省重点支持的国家一流大学和世界一流学科建设高校，北京高科大学联盟成员。\"  \n",
    "keywords = jieba.analyse.textrank(sentence, topK=5, withWeight=False)   \n",
    "print(\"Top-5 关键词：\")  \n",
    "for keyword in keywords:  \n",
    "    print(keyword)"
   ]
  }
 ],
 "metadata": {
  "kernelspec": {
   "display_name": "Python 3 (ipykernel)",
   "language": "python",
   "name": "python3"
  },
  "language_info": {
   "codemirror_mode": {
    "name": "ipython",
    "version": 3
   },
   "file_extension": ".py",
   "mimetype": "text/x-python",
   "name": "python",
   "nbconvert_exporter": "python",
   "pygments_lexer": "ipython3",
   "version": "3.9.21"
  }
 },
 "nbformat": 4,
 "nbformat_minor": 5
}
